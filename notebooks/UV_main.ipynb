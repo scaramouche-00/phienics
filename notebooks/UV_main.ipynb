{
 "cells": [
  {
   "cell_type": "markdown",
   "metadata": {},
   "source": [
    "#### This notebook solves the equations of motion for the UV theory and its screening properties"
   ]
  },
  {
   "cell_type": "code",
   "execution_count": null,
   "metadata": {},
   "outputs": [],
   "source": [
    "%matplotlib inline\n",
    "import sys\n",
    "# this cumbersome syntax is so that path to my code is prepended instead of appended\n",
    "sys.path = ['../phienics/'] + sys.path"
   ]
  },
  {
   "cell_type": "code",
   "execution_count": null,
   "metadata": {},
   "outputs": [],
   "source": [
    "%matplotlib inline\n",
    "import matplotlib.pyplot as plt\n",
    "#plt.style.use(['dark_background'])\n",
    "import dolfin as d\n",
    "import numpy as np\n",
    "\n",
    "from atexpmesh import ArcTanExpMesh\n",
    "from atplmesh import ArcTanPowerLawMesh\n",
    "\n",
    "from fem import Fem\n",
    "from tophatsource import TopHatSource, StepSource\n",
    "from cossource import CosSource\n",
    "from gcakesource import GCakeSource\n",
    "\n",
    "from UV import UVFields, UVSolver\n",
    "from gravity import PoissonSolver\n",
    "\n",
    "from utils import project, get_values"
   ]
  },
  {
   "cell_type": "markdown",
   "metadata": {},
   "source": [
    "First define the problem and the mesh. Every parameter not defined here will be set to its default value."
   ]
  },
  {
   "cell_type": "code",
   "execution_count": null,
   "metadata": {},
   "outputs": [],
   "source": [
    "# mesh and finite element settings\n",
    "mesh = ArcTanExpMesh( num_cells=250, r_min=0., r_max=1e9, k=20., b=1e-2, \n",
    "                     linear_refine=2, linear_start=1.05, linear_stop=1.2,\n",
    "                     adjust_transition=True )\n",
    "fem = Fem( mesh, func_degree=5 )"
   ]
  },
  {
   "cell_type": "code",
   "execution_count": null,
   "metadata": {},
   "outputs": [],
   "source": [
    "# source and UV fields\n",
    "source = TopHatSource( fem, Ms=1e10, Rs=1e47, w=0.02 )\n",
    "fields = UVFields( m=1e-48, M=1e-46 )"
   ]
  },
  {
   "cell_type": "code",
   "execution_count": null,
   "metadata": {
    "scrolled": true
   },
   "outputs": [],
   "source": [
    "# define the problem and solve\n",
    "uvs = UVSolver( fem, source, fields, \n",
    "                rel_res_tol=1e-100, abs_res_tol=1e-83, max_iter=50 )\n",
    "uvs.solve()"
   ]
  },
  {
   "cell_type": "markdown",
   "metadata": {},
   "source": [
    "This is where your mesh vertices are distributed. You can explore more properties of your mesh using one of the notebooks provided: ATEMesh.ipynb, EMesh.ipynb or QMesh.ipynb"
   ]
  },
  {
   "cell_type": "code",
   "execution_count": null,
   "metadata": {},
   "outputs": [],
   "source": [
    "plt.title('Mesh vertices')\n",
    "plt.plot( mesh.mesh.coordinates(), '.', markersize='3' )\n",
    "plt.ylabel(r'$r$')\n",
    "plt.xlabel('index')\n",
    "plt.axhline(y=mesh.rs, color='red', linestyle='-.', label=r'$r_s$')\n",
    "plt.yscale('log')\n",
    "plt.legend()"
   ]
  },
  {
   "cell_type": "markdown",
   "metadata": {},
   "source": [
    "This is what your source looks like (around the source-vacuum transition)"
   ]
  },
  {
   "cell_type": "code",
   "execution_count": null,
   "metadata": {},
   "outputs": [],
   "source": [
    "fig=plt.figure(figsize=(10, 4), dpi=80 )#, facecolor='w', edgecolor='k')\n",
    "\n",
    "# cast rho as a Function (not necessary for plotting, but helpful to compute\n",
    "# On operators later)\n",
    "\n",
    "plt.subplot(121)\n",
    "plt.title(r'$\\rho$ ($M_p^4$)')\n",
    "rho = d.interpolate( source.rho, fem.S )\n",
    "r_values, rho_values = get_values( rho, output_mesh=True )\n",
    "Rho_values = uvs.Mn**3 * rho_values # get physical units\n",
    "plt.plot( r_values, Rho_values )\n",
    "plt.plot( r_values, Rho_values, '.' )\n",
    "plt.xlabel(r'$r/r_s$')\n",
    "plt.xlim([0., 3])\n",
    "\n",
    "# using units Mp^4\n",
    "plt.subplot(122)\n",
    "plt.title(r'$\\rho$ ($M_p^4$)')\n",
    "plt.plot( r_values, Rho_values, '-' )\n",
    "plt.xlabel(r'$r/r_s$')\n",
    "plt.xlim([ 0., 3 ])"
   ]
  },
  {
   "cell_type": "markdown",
   "metadata": {},
   "source": [
    "If you want to check your model parameters, uncomment this line"
   ]
  },
  {
   "cell_type": "code",
   "execution_count": null,
   "metadata": {},
   "outputs": [],
   "source": [
    "#fields.__dict__"
   ]
  },
  {
   "cell_type": "markdown",
   "metadata": {},
   "source": [
    "If you want to check your source parameters, uncomment this line"
   ]
  },
  {
   "cell_type": "code",
   "execution_count": null,
   "metadata": {},
   "outputs": [],
   "source": [
    "source.__dict__"
   ]
  },
  {
   "cell_type": "markdown",
   "metadata": {},
   "source": [
    "And if you want to check your mesh or FEM parameters, uncomment one of these lines"
   ]
  },
  {
   "cell_type": "code",
   "execution_count": null,
   "metadata": {},
   "outputs": [],
   "source": [
    "#mesh.__dict__\n",
    "#fem.__dict__"
   ]
  },
  {
   "cell_type": "markdown",
   "metadata": {},
   "source": [
    "#####    \n",
    "Check the solver has finished: you should see a plateau in these two plots"
   ]
  },
  {
   "cell_type": "code",
   "execution_count": null,
   "metadata": {
    "scrolled": false
   },
   "outputs": [],
   "source": [
    "fig=plt.figure(figsize=(10, 4), dpi=80 )#, facecolor='w', edgecolor='k')\n",
    "\n",
    "abs_du = uvs.abs_du\n",
    "abs_res = uvs.abs_res\n",
    "\n",
    "# change in the solution (du) at every iteration\n",
    "plt.subplot(121)\n",
    "plt.title('Absolute du, norm=%s' % uvs.norm_change )\n",
    "plt.plot( abs_du[abs_du>0.], ':.' )\n",
    "#plt.xlim([0,40])\n",
    "plt.yscale('log')\n",
    "\n",
    "# weak residual at every iteration\n",
    "plt.subplot(122)\n",
    "plt.title('Absolute res, norm=%s' % uvs.norm_res )\n",
    "plt.plot( abs_res[abs_res>0.], ':.' )\n",
    "#plt.xlim([0,40])\n",
    "plt.yscale('log')"
   ]
  },
  {
   "cell_type": "markdown",
   "metadata": {},
   "source": [
    "#####    \n",
    "Print the _strong_ residual (i.e. difference bw two sides of equations) across the whole box, as well as the maximum residual at vertices\n",
    "WARNING: if your interpolating polynomials are degree less than 3 these numbers will not be reliable"
   ]
  },
  {
   "cell_type": "code",
   "execution_count": null,
   "metadata": {},
   "outputs": [],
   "source": [
    "print('absolute residual (L2 norm over the whole box): %.1e' % uvs.strong_residual( uvs.u, norm='L2' ))\n",
    "print('absolute max residual at vertices: %.1e' % uvs.strong_residual( uvs.u, norm='linf' ))\n",
    "\n",
    "print('\\nMax abs value at vertices:')\n",
    "print('LHS of Eq. 1:', uvs.output_term( eqn=1, term='LHS', norm='linf' ))\n",
    "print('RHS of Eq. 1:', uvs.output_term( eqn=1, term='RHS', norm='linf' ))\n",
    "print('LHS of Eq. 2:', uvs.output_term( eqn=2, term='LHS', norm='linf' ))\n",
    "print('RHS of Eq. 2:', uvs.output_term( eqn=2, term='RHS', norm='linf' ))"
   ]
  },
  {
   "cell_type": "markdown",
   "metadata": {},
   "source": [
    "#####      \n",
    "Extract value of phi/H/Y/Z at vertices, for plotting - physical units"
   ]
  },
  {
   "cell_type": "code",
   "execution_count": null,
   "metadata": {
    "scrolled": false
   },
   "outputs": [],
   "source": [
    "Phi, H, Y, Z = uvs.Phi, uvs.H, uvs.Y, uvs.Z\n",
    "r_values, Phi_values = get_values( Phi, output_mesh=True )\n",
    "H_values = get_values(H)\n",
    "Y_values = get_values(Y)\n",
    "Z_values = get_values(Z)"
   ]
  },
  {
   "cell_type": "markdown",
   "metadata": {},
   "source": [
    "get strong residual at all mesh vertices, for plotting"
   ]
  },
  {
   "cell_type": "code",
   "execution_count": null,
   "metadata": {},
   "outputs": [],
   "source": [
    "F = uvs.strong_residual( uvs.u, norm='none', units='rescaled' )\n",
    "F1, F2, F3, F4 = F.split(deepcopy=True) # residuals for Eq1, 2, 3, and 4\n",
    "F1_values = get_values(F1)\n",
    "F2_values = get_values(F2)\n",
    "F3_values = get_values(F3)\n",
    "F4_values = get_values(F4)\n",
    "# useful for log scale\n",
    "F1_mask = ( F1_values > 0. )\n",
    "F2_mask = ( F2_values > 0. )\n",
    "F3_mask = ( F3_values > 0. )\n",
    "F4_mask = ( F4_values > 0. )"
   ]
  },
  {
   "cell_type": "markdown",
   "metadata": {},
   "source": [
    "######    \n",
    "compare the different terms in the equations. Adjust y limits in this plot as well as all others below (unfortunately, it's difficult to predict those limits)"
   ]
  },
  {
   "cell_type": "code",
   "execution_count": null,
   "metadata": {
    "scrolled": false
   },
   "outputs": [],
   "source": [
    "fig=plt.figure(figsize=(10, 4), dpi=80 )\n",
    "\n",
    "\n",
    "# equation 1\n",
    "plt.subplot(121)\n",
    "for j in range(1,5):\n",
    "    term, label = uvs.output_term( eqn=1, term=j, units='physical', output_label=True )\n",
    "    term_values = get_values( term )\n",
    "    term_pos = np.ma.masked_where( term_values < 0., term_values )\n",
    "    term_neg = np.ma.masked_where( term_values > 0., term_values )\n",
    "    # sets same colour for both lines\n",
    "    colour = next(plt.gca()._get_lines.prop_cycler)['color']\n",
    "    plt.plot( r_values, term_pos, '-', label=label, color=colour )\n",
    "    plt.plot( r_values, abs(term_neg), ':', label=label, color=colour )\n",
    "plt.xscale('log')\n",
    "plt.yscale('log')\n",
    "#plt.legend(bbox_to_anchor=(-0.2,0.7))\n",
    "plt.legend()\n",
    "plt.ylim( 1e-145,1e-129 )\n",
    "plt.xlim(1e-1, 1e4)\n",
    "\n",
    "\n",
    "# equation 2\n",
    "\n",
    "plt.subplot(122)\n",
    "for j in range(1,5):\n",
    "    term, label = uvs.output_term( eqn=2, term=j, units='physical', output_label=True )\n",
    "    term_values = get_values( term )\n",
    "#    plt.plot( r_values, abs(term_values), label=label )\n",
    "    term_pos = np.ma.masked_where( term_values < 0., term_values )\n",
    "    term_neg = np.ma.masked_where( term_values > 0., term_values )\n",
    "    # sets same colour for both lines\n",
    "    colour = next(plt.gca()._get_lines.prop_cycler)['color']\n",
    "    plt.plot( r_values, term_pos, '-', label=label, color=colour )\n",
    "    plt.plot( r_values, abs(term_neg), ':', label=label, color=colour )\n",
    "\n",
    "plt.xscale('log')\n",
    "plt.yscale('log')\n",
    "plt.legend()\n",
    "plt.ylim( 1e-145,1e-129 )\n",
    "plt.xlim(1e-1, 1e4)"
   ]
  },
  {
   "cell_type": "code",
   "execution_count": null,
   "metadata": {},
   "outputs": [],
   "source": [
    "fig=plt.figure(figsize=(10, 4), dpi=80 )\n",
    "\n",
    "\n",
    "# equation 1\n",
    "plt.subplot(121)\n",
    "for j in range(1,5):\n",
    "    term, label = uvs.output_term( eqn=1, term=j, units='rescaled', output_label=True )\n",
    "    term_values = get_values( term )\n",
    "    term_pos = np.ma.masked_where( term_values < 0., term_values )\n",
    "    term_neg = np.ma.masked_where( term_values > 0., term_values )\n",
    "    # sets same colour for both lines\n",
    "    colour = next(plt.gca()._get_lines.prop_cycler)['color']\n",
    "    plt.plot( r_values, term_pos, '-', label=label, color=colour )\n",
    "    plt.plot( r_values, abs(term_neg), ':', label=label, color=colour )\n",
    "    \n",
    "# plot strong residual values\n",
    "colour = next(plt.gca()._get_lines.prop_cycler)['color']\n",
    "plt.plot( r_values[F1_mask], F1_values[F1_mask], '.', markersize='3', color=colour,\n",
    "         label='residual > 0' )\n",
    "plt.plot( r_values[~F1_mask], abs(F1_values[~F1_mask]), '+', markersize='3', color=colour,\n",
    "         label='residual < 0' )\n",
    "\n",
    "plt.xscale('log')\n",
    "plt.yscale('log')\n",
    "#plt.legend(bbox_to_anchor=(-0.2,0.7))\n",
    "plt.legend()\n",
    "plt.ylim([1e-20, 1e5])\n",
    "plt.xlim(1e-3, 1e9)\n",
    "\n",
    "\n",
    "# equation 2\n",
    "plt.subplot(122)\n",
    "for j in range(1,5):\n",
    "    term, label = uvs.output_term( eqn=2, term=j, units='rescaled', output_label=True )\n",
    "    term_values = get_values( term )\n",
    "    term_pos = np.ma.masked_where( term_values < 0., term_values )\n",
    "    term_neg = np.ma.masked_where( term_values > 0., term_values )\n",
    "    # sets same colour for both lines\n",
    "    colour = next(plt.gca()._get_lines.prop_cycler)['color']\n",
    "    plt.plot( r_values, term_pos, '-', label=label, color=colour )\n",
    "    plt.plot( r_values, abs(term_neg), ':', label=label, color=colour )\n",
    "    \n",
    "# plot strong residual values\n",
    "colour = next(plt.gca()._get_lines.prop_cycler)['color']\n",
    "plt.plot( r_values[F2_mask], F2_values[F2_mask], '.', markersize='3', color=colour,\n",
    "         label='residual > 0' )\n",
    "plt.plot( r_values[~F2_mask], abs(F2_values[~F2_mask]), '+', markersize='3', color=colour,\n",
    "         label='residual < 0' )\n",
    "\n",
    "plt.xscale('log')\n",
    "plt.yscale('log')\n",
    "plt.legend()\n",
    "plt.ylim([1e-20, 1e5])\n",
    "plt.xlim(1e-3, 1e9)"
   ]
  },
  {
   "cell_type": "markdown",
   "metadata": {},
   "source": [
    "######     \n",
    "consistency of Y = Del phi and Z = Del H. Adjust y limits in this plot as well as all others below (unfortunately, it's difficult to predict those limits)"
   ]
  },
  {
   "cell_type": "code",
   "execution_count": null,
   "metadata": {},
   "outputs": [],
   "source": [
    "fig=plt.figure(figsize=(10, 4), dpi=80 )\n",
    "\n",
    "# equation 3\n",
    "plt.subplot(121)\n",
    "for j in range(1,3):\n",
    "    term, label = uvs.output_term( eqn=3, term=j, units='rescaled', output_label=True )\n",
    "    term_values = get_values( term )\n",
    "    term_pos = np.ma.masked_where( term_values < 0., term_values )\n",
    "    term_neg = np.ma.masked_where( term_values > 0., term_values )\n",
    "    # sets same colour for both lines\n",
    "    colour = next(plt.gca()._get_lines.prop_cycler)['color']\n",
    "    plt.plot( r_values, term_pos, '-', label=label, color=colour )\n",
    "    plt.plot( r_values, abs(term_neg), ':', label=label, color=colour )\n",
    "    \n",
    "# plot strong residual values\n",
    "colour = next(plt.gca()._get_lines.prop_cycler)['color']\n",
    "plt.plot( r_values[F3_mask], F3_values[F3_mask], '.', color=colour,\n",
    "         markersize='3', label='residual > 0' )\n",
    "plt.plot( r_values[~F3_mask], abs(F3_values[~F3_mask]), '+', color=colour,\n",
    "         markersize='3', label='residual < 0' )\n",
    "\n",
    "plt.xscale('log')\n",
    "plt.yscale('log')\n",
    "plt.legend()\n",
    "plt.ylim([1e-30, 1e5])\n",
    "#plt.xlim(1e-3, 1e3)\n",
    "\n",
    "# equation 2\n",
    "plt.subplot(122)\n",
    "for j in range(1,3):\n",
    "    term, label = uvs.output_term( eqn=4, term=j, units='rescaled', output_label=True )\n",
    "    term_values = get_values( term )\n",
    "    term_pos = np.ma.masked_where( term_values < 0., term_values )\n",
    "    term_neg = np.ma.masked_where( term_values > 0., term_values )\n",
    "    # sets same colour for both lines\n",
    "    colour = next(plt.gca()._get_lines.prop_cycler)['color']\n",
    "    plt.plot( r_values, term_pos, '-', label=label, color=colour )\n",
    "    plt.plot( r_values, abs(term_neg), ':', label=label, color=colour )\n",
    "    \n",
    "# plot strong residual values\n",
    "# sets same colour for both lines\n",
    "colour = next(plt.gca()._get_lines.prop_cycler)['color']\n",
    "plt.plot( r_values[F4_mask], F4_values[F4_mask], '.', markersize='3', color=colour,\n",
    "         label='residual > 0' )\n",
    "plt.plot( r_values[~F4_mask], abs(F4_values[~F4_mask]), '+', markersize='3', color=colour,\n",
    "         label='residual < 0' )\n",
    "\n",
    "plt.xscale('log')\n",
    "plt.yscale('log')\n",
    "plt.legend()\n",
    "plt.ylim([1e-30, 1e5])\n",
    "#plt.xlim(1e-3, 1e3)"
   ]
  },
  {
   "cell_type": "markdown",
   "metadata": {},
   "source": [
    "######      \n",
    "Compare the two sides of the equations and the strong residuals"
   ]
  },
  {
   "cell_type": "code",
   "execution_count": null,
   "metadata": {},
   "outputs": [],
   "source": [
    "fig=plt.figure(figsize=(10, 4), dpi=80 )#, facecolor='w', edgecolor='k')\n",
    "plt.title('Terms comparison: dots when >0, crosses when < 0')\n",
    "\n",
    "\n",
    "# equation 1\n",
    "plt.subplot(121)\n",
    "for i, side in enumerate(['LHS','RHS']):\n",
    "    term, label = uvs.output_term( eqn=1, term=side, units='rescaled', output_label=True )\n",
    "    term_values = get_values( term )\n",
    "    term_pos = np.ma.masked_where( term_values < 0., term_values )\n",
    "    term_neg = np.ma.masked_where( term_values > 0., term_values )\n",
    "    # sets same colour for both lines\n",
    "    colour = next(plt.gca()._get_lines.prop_cycler)['color']\n",
    "    plt.plot( r_values, term_pos, '-', label=label, color=colour )\n",
    "    plt.plot( r_values, abs(term_neg), ':', label=label, color=colour )\n",
    "\n",
    "# plot strong residual values\n",
    "colour = next(plt.gca()._get_lines.prop_cycler)['color']\n",
    "plt.plot( r_values[F1_mask], F1_values[F1_mask], '.', markersize='3', color=colour,\n",
    "         label='residual > 0' )\n",
    "plt.plot( r_values[~F1_mask], abs(F1_values[~F1_mask]), '+', markersize='3', color=colour,\n",
    "         label='residual < 0' )\n",
    "\n",
    "plt.xscale('log')\n",
    "plt.yscale('log')\n",
    "plt.legend()\n",
    "plt.ylim([1e-30, 1e5])\n",
    "\n",
    "# equation 2\n",
    "plt.subplot(122)\n",
    "for i, side in enumerate(['LHS','RHS']):\n",
    "    term, label = uvs.output_term( eqn=2, term=side, units='rescaled', output_label=True )\n",
    "    term_values = get_values( term )\n",
    "    term_pos = np.ma.masked_where( term_values < 0., term_values )\n",
    "    term_neg = np.ma.masked_where( term_values > 0., term_values )\n",
    "    # sets same colour for both lines\n",
    "    colour = next(plt.gca()._get_lines.prop_cycler)['color']\n",
    "    plt.plot( r_values, term_pos, '-', label=label, color=colour )\n",
    "    plt.plot( r_values, abs(term_neg), ':', label=label, color=colour )\n",
    "    \n",
    "# plot strong residual values\n",
    "colour = next(plt.gca()._get_lines.prop_cycler)['color']\n",
    "plt.plot( r_values[F2_mask], F2_values[F2_mask], '.', markersize='3', color=colour,\n",
    "         label='residual > 0' )\n",
    "plt.plot( r_values[~F2_mask], abs(F2_values[~F2_mask]), '+', markersize='3', color=colour,\n",
    "         label='residual < 0' )\n",
    "\n",
    "plt.xscale('log')\n",
    "plt.yscale('log')\n",
    "plt.legend()\n",
    "plt.ylim([1e-30, 1e5])"
   ]
  },
  {
   "cell_type": "markdown",
   "metadata": {},
   "source": [
    "######   \n",
    "Now we have checked some diagnostic plots we can look at the solution"
   ]
  },
  {
   "cell_type": "code",
   "execution_count": null,
   "metadata": {
    "scrolled": false
   },
   "outputs": [],
   "source": [
    "# for ease of visualisation, only plot function up to...\n",
    "Phi_r_stop = mesh.rs * 15.\n",
    "\n",
    "fig=plt.figure(figsize=(10, 8), dpi=80 )\n",
    "\n",
    "# field around the source\n",
    "plt.subplot(221)\n",
    "plt.title(r'$\\phi$ (Mp), around the source')\n",
    "plt.plot( r_values, Phi_values )\n",
    "plt.plot( r_values, Phi_values, '.' )\n",
    "plt.xlabel(r'$r/r_s$')\n",
    "# plot a vertical line where the transition source-vacuum happens\n",
    "plt.axvline(x=uvs.fem.mesh.rs, color='red', linestyle=':')\n",
    "plt.ticklabel_format(style='sci', axis='y', scilimits=(0,0))\n",
    "plt.xlim([0., Phi_r_stop])\n",
    "\n",
    "plt.subplot(222)\n",
    "plt.title(r'$\\phi$ (Mp), around the source')\n",
    "plt.plot( r_values, Phi_values )\n",
    "plt.xlabel(r'$\\hat{r}=r/r_s$')\n",
    "# plot a vertical line where the transition source-vacuum happens\n",
    "plt.axvline(x=uvs.fem.mesh.rs, color='red', linestyle=':')\n",
    "plt.xlim([ 0., Phi_r_stop ])\n",
    "\n",
    "# field across the whole box\n",
    "plt.subplot(223)\n",
    "plt.title(r'$\\phi$ (Mp) - whole box')\n",
    "plt.plot( r_values, abs(Phi_values) )\n",
    "plt.plot( r_values, abs(Phi_values), '.' )\n",
    "# plot a vertical line where the transition source-vacuum happens\n",
    "plt.axvline(x=uvs.fem.mesh.rs, color='red', linestyle=':', label=r'$r_s$')\n",
    "plt.axvline(x=uvs.Mn / fields.m, linestyle=':', color='green', label=r'$1/m$')\n",
    "plt.xscale('log')\n",
    "plt.yscale('log')\n",
    "plt.ylim([1e-65, 1e-30])\n",
    "#plt.xlim(1e-7, 1e9)\n",
    "\n",
    "plt.subplot(224)\n",
    "plt.title(r'$\\phi$ (Mp) - whole box')\n",
    "plt.plot( r_values, abs(Phi_values) )\n",
    "# plot a vertical line where the transition source-vacuum happens\n",
    "plt.axvline(x=mesh.rs, color='red', linestyle=':', label=r'$r_s$')\n",
    "plt.axvline(x=uvs.Mn / fields.m, linestyle=':', color='green', label=r'$1/m$')\n",
    "plt.xscale('log')\n",
    "plt.yscale('log')\n",
    "plt.ylim([1e-65, 1e-30])\n",
    "#plt.xlim(1e-7, 1e9)\n",
    "\n",
    "plt.legend()\n",
    "plt.tight_layout()"
   ]
  },
  {
   "cell_type": "code",
   "execution_count": null,
   "metadata": {},
   "outputs": [],
   "source": [
    "# for ease of visualisation, only plot function up to...\n",
    "H_r_stop = mesh.rs * 2.\n",
    "\n",
    "fig=plt.figure(figsize=(10, 8), dpi=80 )\n",
    "\n",
    "# field around the source\n",
    "plt.subplot(221)\n",
    "plt.title(r'$H$ ($M_p$), around the source')\n",
    "plt.plot( r_values, H_values )\n",
    "plt.plot( r_values, H_values, '.', markersize='4' )\n",
    "plt.xlabel(r'$r/r_s$')\n",
    "plt.axvline( x=uvs.fem.mesh.rs, color='red', linestyle=':' )\n",
    "plt.xlim([ 0., H_r_stop ])\n",
    "\n",
    "plt.subplot(222)\n",
    "plt.title(r'$H$ ($M_p$), around the source')\n",
    "plt.plot( r_values, H_values )\n",
    "plt.xlabel(r'$r/r_s$')\n",
    "# plot a vertical line where the transition source-vacuum happens\n",
    "plt.axvline( x=uvs.fem.mesh.rs, color='red', linestyle=':' )\n",
    "plt.xlim([ 0., H_r_stop ])\n",
    "\n",
    "# field across the whole box\n",
    "plt.subplot(223)\n",
    "plt.title(r'$H$ (Mp) - whole box')\n",
    "plt.plot( r_values, abs(H_values) )\n",
    "plt.plot( r_values, abs(H_values), '.' )\n",
    "plt.xlabel(r'$r/r_s$')\n",
    "# plot a vertical line where the transition source-vacuum happens\n",
    "plt.axvline( x=uvs.fem.mesh.rs, color='red', linestyle=':', label=r'$r_s$' )\n",
    "plt.axvline( x=uvs.Mn / uvs.fields.M, linestyle=':', color='k', label=r'$1/M$' )\n",
    "plt.xscale('log')\n",
    "plt.yscale('log')\n",
    "plt.ylim([1e-75, 1e-40])\n",
    "\n",
    "plt.subplot(224)\n",
    "plt.title(r'$H$ (Mp) - whole box')\n",
    "plt.plot( r_values, abs(H_values) )\n",
    "plt.xlabel(r'$r/r_s$')\n",
    "# plot a vertical line where the transition source-vacuum happens\n",
    "plt.axvline( x=uvs.fem.mesh.rs, color='red', linestyle=':', label=r'$r_s$' )\n",
    "plt.axvline( x=uvs.Mn / uvs.fields.M, linestyle=':', color='k', label=r'$1/M$' )\n",
    "plt.xscale('log')\n",
    "plt.yscale('log')\n",
    "plt.ylim([1e-75, 1e-40])\n",
    "\n",
    "plt.legend()\n",
    "plt.tight_layout()"
   ]
  },
  {
   "cell_type": "code",
   "execution_count": null,
   "metadata": {
    "scrolled": false
   },
   "outputs": [],
   "source": [
    "# gradients\n",
    "fig=plt.figure(figsize=(10, 8), dpi=80 )\n",
    "\n",
    "# phi\n",
    "plt.subplot(221)\n",
    "plt.title(r'$\\nabla\\phi$ ($M_p^2$), around the source')\n",
    "grad_Phi_values = get_values( uvs.grad_Phi )\n",
    "plt.plot( r_values, grad_Phi_values, '-' )\n",
    "plt.plot( r_values, grad_Phi_values, '.' )\n",
    "\n",
    "plt.xlabel(r'$r/r_s$')\n",
    "plt.xlim( 0., uvs.fem.mesh.rs * 5. )\n",
    "\n",
    "plt.subplot(222)\n",
    "plt.title(r'$\\nabla\\phi$ ($M_p^2$), around the source')\n",
    "plt.plot( r_values, grad_Phi_values, '-' )\n",
    "plt.xlabel(r'$r/r_s$')\n",
    "plt.xlim( 0., uvs.fem.mesh.rs * 5. )\n",
    "\n",
    "# H\n",
    "plt.subplot(223)\n",
    "plt.title(r'$\\nabla H$ ($M_p^2$), around the source')\n",
    "grad_H_values = get_values( uvs.grad_H )\n",
    "plt.plot( r_values, grad_H_values, '-' )\n",
    "plt.plot( r_values, grad_H_values, '.' )\n",
    "#plt.xlim( 0., uvs.mesh.rs * 5. )\n",
    "plt.xlabel(r'$r/r_s$')\n",
    "plt.xlim(0., 1.5)\n",
    "#plt.yscale('log')\n",
    "#plt.ylim([-1e-55, 3e-55])\n",
    "\n",
    "plt.subplot(224)\n",
    "plt.title(r'$\\nabla H$ ($M_p^2$), around the source')\n",
    "plt.plot( r_values, grad_H_values, '-' )\n",
    "plt.xlabel(r'$r/r_s$')\n",
    "plt.xlim( 0.6, 1.4 )\n",
    "\n",
    "plt.tight_layout()"
   ]
  },
  {
   "cell_type": "markdown",
   "metadata": {},
   "source": [
    "#####     \n",
    "comparison of some scales: rs, rV, 1/M, 1/m, r_max"
   ]
  },
  {
   "cell_type": "code",
   "execution_count": null,
   "metadata": {},
   "outputs": [],
   "source": [
    "fig=plt.figure(figsize=(10, 4), dpi=80 )#, facecolor='w', edgecolor='k')\n",
    "\n",
    "# plot adimensional scales\n",
    "plt.subplot(121)\n",
    "plt.title('Some scales')\n",
    "plt.axvline( x = uvs.fem.mesh.rs, color='r', linestyle='--', label=r'$\\hat{r_s}$' )\n",
    "plt.axvline( x = uvs.Mn * 1/uvs.fields.m, color='lime', linestyle=':', label=r'$\\hat{\\lambda_{\\phi}}$')\n",
    "plt.axvline( x = uvs.Mn * 1/uvs.fields.M, color='grey', linestyle=':', label=r'$\\hat{\\lambda_H}$')\n",
    "plt.axvline( x = uvs.fem.mesh.r_max, color='cyan', linestyle='-', label=r'box $\\hat{r_{max}}$' )\n",
    "plt.xlabel(r'$r/r_s$')\n",
    "plt.xscale('log')\n",
    "plt.legend()\n",
    "\n",
    "\n",
    "# plot and compare mass scales: m, M, Ms, Mp\n",
    "plt.subplot(122)\n",
    "plt.title('Some masses in units 1/Mp')\n",
    "plt.axvline( x=uvs.fields.m, ls='-', color='lime', label=r'$m$' )\n",
    "plt.axvline( x=uvs.fields.M, ls='-', color='grey', label=r'$M$' )\n",
    "plt.axvline( x=uvs.source.Ms, ls='-', color='magenta', label=r'$M_s$')\n",
    "plt.axvline( x=uvs.fields.Mp, ls='-', color='cyan', label=r'$M_p$')\n",
    "plt.xlabel('mass')\n",
    "plt.xscale('log')\n",
    "plt.legend()\n",
    "\n",
    "plt.tight_layout()"
   ]
  },
  {
   "cell_type": "markdown",
   "metadata": {},
   "source": [
    "#####    \n",
    "Now compute the Newton force by solving the Poisson equation"
   ]
  },
  {
   "cell_type": "code",
   "execution_count": null,
   "metadata": {},
   "outputs": [],
   "source": [
    "gs = PoissonSolver( fem, source )\n",
    "gs.solve()\n",
    "Newton_values = get_values( gs.Newton_force )\n",
    "gF_values = get_values( gs.strong_residual( gs.PhiN, norm='none', units='physical' ) )\n",
    "gF_mask = ( gF_values > 0. )\n",
    "\n",
    "\n",
    "fig=plt.figure(figsize=(12, 4), dpi=80 )\n",
    "\n",
    "plt.subplot(121)\n",
    "plt.title(r'$F_N$ in units 1/Mp')\n",
    "plt.plot( r_values, Newton_values, '-' )\n",
    "plt.xlim( 0., gs.fem.mesh.rs * 2. )\n",
    "plt.xlabel(r'$r/r_s$')\n",
    "\n",
    "plt.subplot(122)\n",
    "plt.title(r'Gravitational field - residuals')\n",
    "for i, side in enumerate(['LHS','RHS']):\n",
    "    term, label = gs.output_term( term=side, units='physical', output_label=True )\n",
    "    term_values = get_values( term )\n",
    "    term_pos = np.ma.masked_where( term_values < 0., term_values )\n",
    "    term_neg = np.ma.masked_where( term_values > 0., term_values )\n",
    "    # sets same colour for both lines\n",
    "    colour = next(plt.gca()._get_lines.prop_cycler)['color']\n",
    "    plt.plot( r_values, term_pos, '-', label=label, color=colour )\n",
    "    plt.plot( r_values, abs(term_neg), ':', label=label, color=colour )\n",
    "\n",
    "# plot strong residual values\n",
    "colour = next(plt.gca()._get_lines.prop_cycler)['color']\n",
    "plt.plot( r_values[gF_mask], gF_values[gF_mask], '.', markersize='3', color=colour,\n",
    "         label='residual > 0' )\n",
    "plt.plot( r_values[~gF_mask], abs(gF_values[~gF_mask]), '+', markersize='3', color=colour,\n",
    "         label='residual < 0' )\n",
    "\n",
    "plt.xlabel(r'$r/r_s$')\n",
    "plt.xscale('log')\n",
    "plt.yscale('log')\n",
    "plt.legend()\n",
    "plt.ylim(1e-180,1e-130)"
   ]
  },
  {
   "cell_type": "markdown",
   "metadata": {},
   "source": [
    "######  \n",
    "compare strength of scalar vs Newton force: a value of two in the scalar/Newton force ratio indicates they are the same strength (as a consequence of our normalisation) a value of 2 or higher indicates there is no screening"
   ]
  },
  {
   "cell_type": "code",
   "execution_count": null,
   "metadata": {},
   "outputs": [],
   "source": [
    "fig=plt.figure(figsize=(10, 4), dpi=80 )\n",
    "\n",
    "plt.subplot(121)\n",
    "plt.title(r'$F_{\\pi}/F_N$')\n",
    "\n",
    "Pi_force_values = get_values( uvs.force )\n",
    "\n",
    "comparison = Pi_force_values / Newton_values\n",
    "# sets same colour for both lines\n",
    "colour = next(plt.gca()._get_lines.prop_cycler)['color']\n",
    "plt.plot( r_values[1:], comparison[1:], '-', color=colour )\n",
    "#plt.plot( r_values, comparison, '.', color=colour )\n",
    "plt.xlabel(r'$r/r_s$')\n",
    "\n",
    "plt.axvline( x = uvs.fem.mesh.rs, ls='--', color='magenta', label=r'$r_s$' )\n",
    "plt.axhline( y = 2., color='grey', ls='--' )\n",
    "plt.axvline( x = uvs.Mn/uvs.fields.m, ls='--',  color='lime', label=r'$1/m$')\n",
    "plt.axvline( x = uvs.Mn/uvs.fields.M, ls='--', color='grey', label=r'$1/\\Lambda$')\n",
    "\n",
    "plt.xlabel('r')\n",
    "plt.yscale('log')\n",
    "plt.xscale('log')\n",
    "plt.ylim([1e-10,1e1])\n",
    "#plt.xlim(1e45,1e50)\n",
    "plt.legend()\n",
    "\n",
    "\n",
    "plt.subplot(122)\n",
    "plt.title(r'$F_{\\pi}/F_N$ - around the source')\n",
    "\n",
    "plt.plot( r_values[1:], comparison[1:], '-' )\n",
    "\n",
    "plt.axvline( x = uvs.fem.mesh.rs, ls='--', color='magenta', label=r'$r_s$' )\n",
    "plt.axhline( y = 2., color='grey', ls='--' )\n",
    "plt.legend(loc=2)\n",
    "plt.xlim( 0., uvs.fem.mesh.rs * 100. )\n",
    "plt.ylim(2-1e-1,2+1e-1)\n",
    "plt.xlabel(r'$r/r_s$')"
   ]
  },
  {
   "cell_type": "markdown",
   "metadata": {},
   "source": [
    "######      \n",
    "IR operators. Plot the On operator for some n first"
   ]
  },
  {
   "cell_type": "code",
   "execution_count": null,
   "metadata": {
    "scrolled": false
   },
   "outputs": [],
   "source": [
    "n = 3\n",
    "\n",
    "On_Phi = uvs.On( n )\n",
    "On_values = get_values( On_Phi )\n",
    "On_mask = ( On_values > 0. )\n",
    "\n",
    "# make figure\n",
    "fig=plt.figure(figsize=(10, 8.5), dpi=80 )\n",
    "\n",
    "# in linear scale, for ease of visualisation stop at this r\n",
    "On_stop = 2. * uvs.fem.mesh.rs\n",
    "\n",
    "# operator around the source\n",
    "plt.subplot(221)\n",
    "plt.title( r'$O_{%d}$, around the source' % n )\n",
    "plt.plot( r_values, On_values )\n",
    "plt.plot( r_values[~On_mask], On_values[~On_mask], 'r.', markersize='3' )\n",
    "plt.plot( r_values[On_mask], On_values[On_mask], '.', markersize='3' )\n",
    "plt.xlabel(r'$r/r_s$')\n",
    "# plot a vertical line where the transition source-vacuum happens\n",
    "plt.axvline(x=uvs.fem.mesh.rs, color='red', linestyle=':')\n",
    "plt.ticklabel_format(style='sci', axis='y', scilimits=(0,0))\n",
    "plt.xlim(0., On_stop)\n",
    "\n",
    "plt.subplot(222)\n",
    "plt.title(r'$O_{%d}$ ($M_p^3$), around the source' % n)\n",
    "plt.plot( r_values, On_values, '-' )\n",
    "plt.xlabel(r'$r/r_s$')\n",
    "# plot a vertical line where the transition source-vacuum happens\n",
    "plt.axvline(x=uvs.fem.mesh.rs, color='red', linestyle=':')\n",
    "plt.xlim([ 0., On_stop ])\n",
    "\n",
    "# operator across the whole box\n",
    "plt.subplot(223)\n",
    "plt.title( r'$O_{%d}$, whole box' % n )\n",
    "plt.plot( r_values, abs(On_values) )\n",
    "plt.plot( r_values[~On_mask], abs(On_values[~On_mask]), 'r.' )\n",
    "plt.plot( r_values[On_mask], abs(On_values[On_mask]), '.' )\n",
    "plt.xlabel(r'$\\hat{r}$')\n",
    "# plot a vertical line where the transition source-vacuum happens\n",
    "plt.axvline(x=uvs.fem.mesh.rs, color='red', linestyle=':')\n",
    "plt.axvline(x=uvs.Mn / uvs.fields.m, linestyle=':', color='green')\n",
    "plt.yscale('log')\n",
    "plt.xscale('log')\n",
    "plt.ylim([1e-162, 1e-90])\n",
    "#plt.xlim(1e-2, 1e9)\n",
    "\n",
    "# original operator across the whole box\n",
    "plt.subplot(224)\n",
    "plt.title(r'$O_n$ - whole box')\n",
    "plt.plot( r_values, abs(On_values) )\n",
    "plt.xlabel(r'$r$')\n",
    "# plot a vertical line where the transition source-vacuum happens\n",
    "plt.axvline(x=uvs.fem.mesh.rs, color='red', linestyle=':')\n",
    "plt.axvline(x=uvs.Mn/uvs.fields.m, linestyle=':', color='green')\n",
    "plt.yscale('log')\n",
    "plt.xscale('log')\n",
    "plt.ylim([1e-162, 1e-90])\n",
    "#plt.xlim(1., 1.5)\n",
    "\n",
    "plt.tight_layout()"
   ]
  },
  {
   "cell_type": "markdown",
   "metadata": {},
   "source": [
    "#####   \n",
    "Compare some On operators in log scale"
   ]
  },
  {
   "cell_type": "code",
   "execution_count": null,
   "metadata": {},
   "outputs": [],
   "source": [
    "# Comparison of a few operators in log scale\n",
    "\n",
    "plt.title(r'$On$ in $M_p^3$, across box')\n",
    "K_array = np.ones(10)\n",
    "#K_array[1] = 1e10\n",
    "#K_array[2] = 1e20#1e5\n",
    "#K_array[3] = 1e40#1e30\n",
    "#K_array[4] = 1e40#1e30\n",
    "for n in range(1,5):\n",
    "    phys_On = uvs.On( n )#, rescale=K_array[n] )\n",
    "    phys_On_values = get_values( phys_On )\n",
    "    phys_On_pos = np.ma.masked_where( phys_On_values < 0., phys_On_values )\n",
    "    phys_On_neg = np.ma.masked_where( phys_On_values > 0., phys_On_values )\n",
    "    # sets same colour for both lines\n",
    "    colour = next(plt.gca()._get_lines.prop_cycler)['color']\n",
    "    plt.plot( r_values, phys_On_pos, '-', label=r'$O_{%d}>0$' % n, color=colour )\n",
    "    plt.plot( r_values, abs(phys_On_neg), ':', label=r'$O_{%d}<0$' % n, color=colour )\n",
    "    plt.xlabel(r'$\\hat{r}$')\n",
    "       \n",
    "# plot a vertical line where the transition source-vacuum happens\n",
    "plt.axvline(x=uvs.fem.mesh.rs, color='red', linestyle=':')\n",
    "plt.yscale('log')\n",
    "plt.xscale('log')\n",
    "plt.ylim(1e-170,1e-60)\n",
    "plt.xlim(1e-1,1e5)\n",
    "plt.legend(bbox_to_anchor=(1.1,.1), loc='lower left')"
   ]
  },
  {
   "cell_type": "markdown",
   "metadata": {},
   "source": [
    "######    \n",
    "Compare the Qn operators"
   ]
  },
  {
   "cell_type": "code",
   "execution_count": null,
   "metadata": {},
   "outputs": [],
   "source": [
    "# Even and odd operators together\n",
    "\n",
    "fig=plt.figure(figsize=(6, 5), dpi=80 )\n",
    "\n",
    "plt.title(r'$Q_n$ in units $M_p^3$')\n",
    "K_array = np.ones(10)\n",
    "#K_array[2] = 1e10\n",
    "#K_array[3] = 1e20\n",
    "#K_array[4] = 1e20\n",
    "#K_array[5] = 1e30\n",
    "#K_array[6] = 1e30\n",
    "#K_array[7] = 1e40\n",
    "for n in range(2,8):\n",
    "    Qn_phys = uvs.Qn( n )#, rescale=K_array[n] )\n",
    "    Qn_values = get_values( Qn_phys )\n",
    "    Qn_pos = np.ma.masked_where( Qn_values < 0., Qn_values )\n",
    "    Qn_neg = np.ma.masked_where( Qn_values > 0., Qn_values )\n",
    "    # sets same colour for both lines\n",
    "    colour = next(plt.gca()._get_lines.prop_cycler)['color']\n",
    "    plt.plot( r_values, Qn_pos, '-', label=r'$n=%d$' % n, color=colour )\n",
    "    plt.plot( r_values, abs(Qn_neg), ':', color=colour )\n",
    "    plt.xlabel(r'$\\hat{r}$')\n",
    "       \n",
    "\n",
    "plt.axvline(x=uvs.fem.mesh.rs, color='red', linestyle=':')\n",
    "plt.yscale('log')\n",
    "plt.xscale('log')\n",
    "plt.xlim(1e-1, 1e6)\n",
    "plt.ylim(1e-170,1e-80)\n",
    "plt.legend(bbox_to_anchor=(1.1,.1), loc='lower left', ncol=2)"
   ]
  },
  {
   "cell_type": "code",
   "execution_count": null,
   "metadata": {},
   "outputs": [],
   "source": []
  }
 ],
 "metadata": {
  "kernelspec": {
   "display_name": "Python 3",
   "language": "python",
   "name": "python3"
  },
  "language_info": {
   "codemirror_mode": {
    "name": "ipython",
    "version": 3
   },
   "file_extension": ".py",
   "mimetype": "text/x-python",
   "name": "python",
   "nbconvert_exporter": "python",
   "pygments_lexer": "ipython3",
   "version": "3.6.12"
  }
 },
 "nbformat": 4,
 "nbformat_minor": 2
}
