{
 "cells": [
  {
   "cell_type": "code",
   "execution_count": 69,
   "metadata": {},
   "outputs": [],
   "source": [
    "%matplotlib inline\n",
    "import sys\n",
    "# this cumbersome syntax is so that path to my code is prepended instead of appended\n",
    "sys.path = ['..'] + sys.path"
   ]
  },
  {
   "cell_type": "code",
   "execution_count": 70,
   "metadata": {},
   "outputs": [],
   "source": [
    "%matplotlib inline\n",
    "import matplotlib.pyplot as plt\n",
    "plt.style.use(['dark_background'])\n",
    "import dolfin as d\n",
    "import numpy as np\n",
    "\n",
    "from atexpmesh import ArcTanExpMesh\n",
    "from atplmesh import ArcTanPowerLawMesh\n",
    "\n",
    "from fem import Fem\n",
    "from tophatsource import TopHatSource, StepSource\n",
    "\n",
    "from UV import UVFields, UVSolver\n",
    "from IR import IRFields, IRSolver\n",
    "from gravity import PoissonSolver\n",
    "\n",
    "from utils import project, get_values\n",
    "\n",
    "# for this notebook\n",
    "from scipy.special import binom \n",
    "from copy import copy\n",
    "from mpl_toolkits.axes_grid1.inset_locator import inset_axes"
   ]
  },
  {
   "cell_type": "code",
   "execution_count": 71,
   "metadata": {
    "scrolled": true
   },
   "outputs": [
    {
     "name": "stdout",
     "output_type": "stream",
     "text": [
      "Non-linear solver, iteration 0\tabs_du = 1.0e-51\trel_du = 4.3e-01\tabs_res = 8.8e-43 (tol = 1.0e-83)\trel_res = 1.0e+00 (tol = 1.0e-100)\n",
      "Non-linear solver, iteration 1\tabs_du = 6.9e-52\trel_du = 2.9e-01\tabs_res = 2.6e-43 (tol = 1.0e-83)\trel_res = 3.0e-01 (tol = 1.0e-100)\n",
      "Non-linear solver, iteration 2\tabs_du = 4.6e-52\trel_du = 1.9e-01\tabs_res = 7.8e-44 (tol = 1.0e-83)\trel_res = 8.8e-02 (tol = 1.0e-100)\n",
      "Non-linear solver, iteration 3\tabs_du = 3.0e-52\trel_du = 1.3e-01\tabs_res = 2.3e-44 (tol = 1.0e-83)\trel_res = 2.6e-02 (tol = 1.0e-100)\n",
      "Non-linear solver, iteration 4\tabs_du = 2.0e-52\trel_du = 8.5e-02\tabs_res = 6.8e-45 (tol = 1.0e-83)\trel_res = 7.7e-03 (tol = 1.0e-100)\n",
      "Non-linear solver, iteration 5\tabs_du = 1.4e-52\trel_du = 5.7e-02\tabs_res = 2.0e-45 (tol = 1.0e-83)\trel_res = 2.3e-03 (tol = 1.0e-100)\n",
      "Non-linear solver, iteration 6\tabs_du = 9.0e-53\trel_du = 3.8e-02\tabs_res = 6.0e-46 (tol = 1.0e-83)\trel_res = 6.8e-04 (tol = 1.0e-100)\n",
      "Non-linear solver, iteration 7\tabs_du = 6.0e-53\trel_du = 2.5e-02\tabs_res = 1.8e-46 (tol = 1.0e-83)\trel_res = 2.0e-04 (tol = 1.0e-100)\n",
      "Non-linear solver, iteration 8\tabs_du = 4.0e-53\trel_du = 1.7e-02\tabs_res = 5.3e-47 (tol = 1.0e-83)\trel_res = 5.9e-05 (tol = 1.0e-100)\n",
      "Non-linear solver, iteration 9\tabs_du = 2.8e-53\trel_du = 1.2e-02\tabs_res = 1.6e-47 (tol = 1.0e-83)\trel_res = 1.8e-05 (tol = 1.0e-100)\n",
      "Non-linear solver, iteration 10\tabs_du = 2.7e-53\trel_du = 1.1e-02\tabs_res = 4.6e-48 (tol = 1.0e-83)\trel_res = 5.2e-06 (tol = 1.0e-100)\n",
      "Non-linear solver, iteration 11\tabs_du = 3.0e-53\trel_du = 1.2e-02\tabs_res = 1.4e-48 (tol = 1.0e-83)\trel_res = 1.5e-06 (tol = 1.0e-100)\n",
      "Non-linear solver, iteration 12\tabs_du = 3.0e-53\trel_du = 1.3e-02\tabs_res = 4.0e-49 (tol = 1.0e-83)\trel_res = 4.6e-07 (tol = 1.0e-100)\n",
      "Non-linear solver, iteration 13\tabs_du = 2.9e-53\trel_du = 1.2e-02\tabs_res = 1.2e-49 (tol = 1.0e-83)\trel_res = 1.4e-07 (tol = 1.0e-100)\n",
      "Non-linear solver, iteration 14\tabs_du = 3.0e-53\trel_du = 1.3e-02\tabs_res = 3.6e-50 (tol = 1.0e-83)\trel_res = 4.0e-08 (tol = 1.0e-100)\n",
      "Non-linear solver, iteration 15\tabs_du = 3.0e-53\trel_du = 1.3e-02\tabs_res = 1.1e-50 (tol = 1.0e-83)\trel_res = 1.2e-08 (tol = 1.0e-100)\n",
      "Non-linear solver, iteration 16\tabs_du = 3.1e-53\trel_du = 1.3e-02\tabs_res = 3.1e-51 (tol = 1.0e-83)\trel_res = 3.5e-09 (tol = 1.0e-100)\n",
      "Non-linear solver, iteration 17\tabs_du = 3.1e-53\trel_du = 1.3e-02\tabs_res = 9.1e-52 (tol = 1.0e-83)\trel_res = 1.0e-09 (tol = 1.0e-100)\n",
      "Non-linear solver, iteration 18\tabs_du = 3.2e-53\trel_du = 1.3e-02\tabs_res = 2.6e-52 (tol = 1.0e-83)\trel_res = 3.0e-10 (tol = 1.0e-100)\n",
      "Non-linear solver, iteration 19\tabs_du = 3.3e-53\trel_du = 1.4e-02\tabs_res = 7.1e-53 (tol = 1.0e-83)\trel_res = 8.0e-11 (tol = 1.0e-100)\n",
      "Non-linear solver, iteration 20\tabs_du = 3.2e-53\trel_du = 1.3e-02\tabs_res = 1.5e-53 (tol = 1.0e-83)\trel_res = 1.7e-11 (tol = 1.0e-100)\n",
      "Non-linear solver, iteration 21\tabs_du = 2.7e-53\trel_du = 1.1e-02\tabs_res = 1.6e-54 (tol = 1.0e-83)\trel_res = 1.8e-12 (tol = 1.0e-100)\n",
      "Non-linear solver, iteration 22\tabs_du = 1.4e-53\trel_du = 6.0e-03\tabs_res = 2.8e-56 (tol = 1.0e-83)\trel_res = 3.2e-14 (tol = 1.0e-100)\n",
      "Non-linear solver, iteration 23\tabs_du = 1.9e-54\trel_du = 7.9e-04\tabs_res = 1.1e-58 (tol = 1.0e-83)\trel_res = 1.2e-16 (tol = 1.0e-100)\n",
      "Non-linear solver, iteration 24\tabs_du = 2.7e-56\trel_du = 1.1e-05\tabs_res = 8.9e-61 (tol = 1.0e-83)\trel_res = 1.0e-18 (tol = 1.0e-100)\n",
      "Non-linear solver, iteration 25\tabs_du = 9.5e-59\trel_du = 4.0e-08\tabs_res = 7.7e-61 (tol = 1.0e-83)\trel_res = 8.7e-19 (tol = 1.0e-100)\n",
      "Non-linear solver, iteration 26\tabs_du = 8.2e-59\trel_du = 3.4e-08\tabs_res = 7.1e-61 (tol = 1.0e-83)\trel_res = 8.0e-19 (tol = 1.0e-100)\n",
      "Non-linear solver, iteration 27\tabs_du = 9.1e-59\trel_du = 3.8e-08\tabs_res = 8.3e-61 (tol = 1.0e-83)\trel_res = 9.3e-19 (tol = 1.0e-100)\n",
      "Non-linear solver, iteration 28\tabs_du = 9.2e-59\trel_du = 3.8e-08\tabs_res = 6.0e-61 (tol = 1.0e-83)\trel_res = 6.8e-19 (tol = 1.0e-100)\n",
      "Non-linear solver, iteration 29\tabs_du = 1.3e-58\trel_du = 5.5e-08\tabs_res = 7.5e-61 (tol = 1.0e-83)\trel_res = 8.5e-19 (tol = 1.0e-100)\n",
      "Non-linear solver, iteration 30\tabs_du = 9.6e-59\trel_du = 4.0e-08\tabs_res = 7.0e-61 (tol = 1.0e-83)\trel_res = 7.9e-19 (tol = 1.0e-100)\n",
      "Non-linear solver, iteration 31\tabs_du = 1.6e-58\trel_du = 6.8e-08\tabs_res = 7.0e-61 (tol = 1.0e-83)\trel_res = 7.9e-19 (tol = 1.0e-100)\n",
      "Non-linear solver, iteration 32\tabs_du = 1.2e-58\trel_du = 4.9e-08\tabs_res = 8.0e-61 (tol = 1.0e-83)\trel_res = 9.0e-19 (tol = 1.0e-100)\n",
      "Non-linear solver, iteration 33\tabs_du = 1.2e-58\trel_du = 5.1e-08\tabs_res = 1.3e-60 (tol = 1.0e-83)\trel_res = 1.5e-18 (tol = 1.0e-100)\n",
      "Non-linear solver, iteration 34\tabs_du = 7.7e-59\trel_du = 3.2e-08\tabs_res = 5.9e-61 (tol = 1.0e-83)\trel_res = 6.7e-19 (tol = 1.0e-100)\n",
      "Non-linear solver, iteration 35\tabs_du = 1.4e-58\trel_du = 6.0e-08\tabs_res = 6.8e-61 (tol = 1.0e-83)\trel_res = 7.7e-19 (tol = 1.0e-100)\n",
      "Non-linear solver, iteration 36\tabs_du = 1.3e-58\trel_du = 5.7e-08\tabs_res = 9.3e-61 (tol = 1.0e-83)\trel_res = 1.1e-18 (tol = 1.0e-100)\n",
      "Non-linear solver, iteration 37\tabs_du = 1.1e-58\trel_du = 4.5e-08\tabs_res = 9.5e-61 (tol = 1.0e-83)\trel_res = 1.1e-18 (tol = 1.0e-100)\n",
      "Non-linear solver, iteration 38\tabs_du = 9.1e-59\trel_du = 3.8e-08\tabs_res = 7.9e-61 (tol = 1.0e-83)\trel_res = 8.9e-19 (tol = 1.0e-100)\n",
      "Non-linear solver, iteration 39\tabs_du = 7.0e-59\trel_du = 2.9e-08\tabs_res = 8.9e-61 (tol = 1.0e-83)\trel_res = 1.0e-18 (tol = 1.0e-100)\n",
      "Non-linear solver, iteration 40\tabs_du = 7.9e-59\trel_du = 3.3e-08\tabs_res = 6.2e-61 (tol = 1.0e-83)\trel_res = 7.1e-19 (tol = 1.0e-100)\n",
      "Non-linear solver, iteration 41\tabs_du = 8.2e-59\trel_du = 3.4e-08\tabs_res = 9.8e-61 (tol = 1.0e-83)\trel_res = 1.1e-18 (tol = 1.0e-100)\n",
      "Non-linear solver, iteration 42\tabs_du = 1.3e-58\trel_du = 5.3e-08\tabs_res = 7.9e-61 (tol = 1.0e-83)\trel_res = 8.9e-19 (tol = 1.0e-100)\n",
      "Non-linear solver, iteration 43\tabs_du = 9.0e-59\trel_du = 3.8e-08\tabs_res = 1.7e-60 (tol = 1.0e-83)\trel_res = 1.9e-18 (tol = 1.0e-100)\n",
      "Non-linear solver, iteration 44\tabs_du = 8.1e-59\trel_du = 3.4e-08\tabs_res = 7.3e-61 (tol = 1.0e-83)\trel_res = 8.3e-19 (tol = 1.0e-100)\n",
      "Non-linear solver, iteration 45\tabs_du = 9.9e-59\trel_du = 4.2e-08\tabs_res = 6.6e-61 (tol = 1.0e-83)\trel_res = 7.4e-19 (tol = 1.0e-100)\n",
      "Non-linear solver, iteration 46\tabs_du = 7.1e-59\trel_du = 3.0e-08\tabs_res = 9.1e-61 (tol = 1.0e-83)\trel_res = 1.0e-18 (tol = 1.0e-100)\n",
      "Non-linear solver, iteration 47\tabs_du = 7.0e-59\trel_du = 2.9e-08\tabs_res = 7.8e-61 (tol = 1.0e-83)\trel_res = 8.9e-19 (tol = 1.0e-100)\n",
      "Non-linear solver, iteration 48\tabs_du = 9.5e-59\trel_du = 4.0e-08\tabs_res = 6.5e-61 (tol = 1.0e-83)\trel_res = 7.3e-19 (tol = 1.0e-100)\n",
      "Non-linear solver, iteration 49\tabs_du = 1.0e-58\trel_du = 4.2e-08\tabs_res = 9.5e-61 (tol = 1.0e-83)\trel_res = 1.1e-18 (tol = 1.0e-100)\n",
      "*******************************************************************************\n",
      "   WARNING: the solver hasn't converged in the maximum number of iterations\n",
      "*******************************************************************************\n"
     ]
    }
   ],
   "source": [
    "# UV theory\n",
    "UV_mesh = ArcTanExpMesh( num_cells=250, k=3., b=1e-2, \n",
    "                     linear_refine=2, linear_start=1.05, linear_stop=1.2, adjust_transition=True )\n",
    "UV_fem = Fem( UV_mesh, func_degree=5 )\n",
    "UV_source = TopHatSource( UV_fem, Ms=1e10, Rs=1e47, w=0.02 )\n",
    "UV_fields = UVFields( m=1e-48, M=1e-46 )\n",
    "uvs = UVSolver( UV_fem, UV_source, UV_fields, Mf1=1e13, Mf2=1e12, \n",
    "                rel_res_tol=1e-100, abs_res_tol=1e-83, max_iter=50 )\n",
    "uvs.solve()"
   ]
  },
  {
   "cell_type": "code",
   "execution_count": 72,
   "metadata": {
    "scrolled": true
   },
   "outputs": [
    {
     "name": "stdout",
     "output_type": "stream",
     "text": [
      "Getting NL initial guess...\n",
      "Non-linear solver, iteration 0\tabs_du = 3.0e+26\trel_du = 4.2e+09\tabs_res = 1.1e+39 (tol = 1.0e-10)\trel_res = 1.0e+00 (tol = 1.0e-100)\n",
      "Non-linear solver, iteration 1\tabs_du = 4.4e+13\trel_du = 6.1e-04\tabs_res = 1.7e+19 (tol = 1.0e-10)\trel_res = 1.5e-20 (tol = 1.0e-100)\n",
      "Non-linear solver, iteration 2\tabs_du = 3.8e+11\trel_du = 5.2e-06\tabs_res = 3.1e+17 (tol = 1.0e-10)\trel_res = 2.8e-22 (tol = 1.0e-100)\n",
      "Non-linear solver, iteration 3\tabs_du = 7.3e+09\trel_du = 1.0e-07\tabs_res = 7.4e+15 (tol = 1.0e-10)\trel_res = 6.7e-24 (tol = 1.0e-100)\n",
      "Non-linear solver, iteration 4\tabs_du = 1.6e+08\trel_du = 2.2e-09\tabs_res = 1.2e+14 (tol = 1.0e-10)\trel_res = 1.1e-25 (tol = 1.0e-100)\n",
      "Non-linear solver, iteration 5\tabs_du = 3.4e+06\trel_du = 4.7e-11\tabs_res = 1.2e+12 (tol = 1.0e-10)\trel_res = 1.1e-27 (tol = 1.0e-100)\n",
      "Non-linear solver, iteration 6\tabs_du = 3.1e+06\trel_du = 4.3e-11\tabs_res = 2.6e+08 (tol = 1.0e-10)\trel_res = 2.4e-31 (tol = 1.0e-100)\n",
      "Non-linear solver, iteration 7\tabs_du = 3.1e+06\trel_du = 4.2e-11\tabs_res = 2.7e+05 (tol = 1.0e-10)\trel_res = 2.4e-34 (tol = 1.0e-100)\n",
      "Non-linear solver, iteration 8\tabs_du = 2.6e+06\trel_du = 3.5e-11\tabs_res = 2.4e+05 (tol = 1.0e-10)\trel_res = 2.1e-34 (tol = 1.0e-100)\n",
      "Non-linear solver, iteration 9\tabs_du = 3.5e+06\trel_du = 4.8e-11\tabs_res = 2.1e+05 (tol = 1.0e-10)\trel_res = 1.9e-34 (tol = 1.0e-100)\n",
      "Non-linear solver, iteration 10\tabs_du = 3.1e+06\trel_du = 4.2e-11\tabs_res = 2.6e+05 (tol = 1.0e-10)\trel_res = 2.3e-34 (tol = 1.0e-100)\n",
      "Non-linear solver, iteration 11\tabs_du = 4.2e+06\trel_du = 5.8e-11\tabs_res = 3.0e+05 (tol = 1.0e-10)\trel_res = 2.7e-34 (tol = 1.0e-100)\n",
      "Non-linear solver, iteration 12\tabs_du = 4.4e+06\trel_du = 6.0e-11\tabs_res = 3.0e+05 (tol = 1.0e-10)\trel_res = 2.7e-34 (tol = 1.0e-100)\n",
      "Non-linear solver, iteration 13\tabs_du = 1.7e+06\trel_du = 2.3e-11\tabs_res = 2.9e+05 (tol = 1.0e-10)\trel_res = 2.7e-34 (tol = 1.0e-100)\n",
      "Non-linear solver, iteration 14\tabs_du = 6.8e+05\trel_du = 9.3e-12\tabs_res = 2.7e+05 (tol = 1.0e-10)\trel_res = 2.4e-34 (tol = 1.0e-100)\n",
      "Non-linear solver, iteration 15\tabs_du = 8.6e+05\trel_du = 1.2e-11\tabs_res = 2.9e+05 (tol = 1.0e-10)\trel_res = 2.6e-34 (tol = 1.0e-100)\n",
      "Non-linear solver, iteration 16\tabs_du = 1.5e+06\trel_du = 2.1e-11\tabs_res = 2.5e+05 (tol = 1.0e-10)\trel_res = 2.3e-34 (tol = 1.0e-100)\n",
      "Non-linear solver, iteration 17\tabs_du = 1.8e+06\trel_du = 2.5e-11\tabs_res = 2.6e+05 (tol = 1.0e-10)\trel_res = 2.3e-34 (tol = 1.0e-100)\n",
      "Non-linear solver, iteration 18\tabs_du = 1.3e+06\trel_du = 1.8e-11\tabs_res = 3.1e+05 (tol = 1.0e-10)\trel_res = 2.8e-34 (tol = 1.0e-100)\n",
      "Non-linear solver, iteration 19\tabs_du = 1.6e+06\trel_du = 2.2e-11\tabs_res = 2.5e+05 (tol = 1.0e-10)\trel_res = 2.3e-34 (tol = 1.0e-100)\n",
      "Non-linear solver, iteration 20\tabs_du = 2.3e+06\trel_du = 3.2e-11\tabs_res = 3.5e+05 (tol = 1.0e-10)\trel_res = 3.2e-34 (tol = 1.0e-100)\n",
      "Non-linear solver, iteration 21\tabs_du = 8.5e+05\trel_du = 1.2e-11\tabs_res = 2.2e+05 (tol = 1.0e-10)\trel_res = 2.0e-34 (tol = 1.0e-100)\n",
      "Non-linear solver, iteration 22\tabs_du = 5.5e+05\trel_du = 7.5e-12\tabs_res = 3.2e+05 (tol = 1.0e-10)\trel_res = 2.9e-34 (tol = 1.0e-100)\n",
      "Non-linear solver, iteration 23\tabs_du = 4.5e+06\trel_du = 6.2e-11\tabs_res = 3.0e+05 (tol = 1.0e-10)\trel_res = 2.7e-34 (tol = 1.0e-100)\n",
      "Non-linear solver, iteration 24\tabs_du = 3.4e+06\trel_du = 4.7e-11\tabs_res = 2.6e+05 (tol = 1.0e-10)\trel_res = 2.3e-34 (tol = 1.0e-100)\n",
      "Non-linear solver, iteration 25\tabs_du = 3.9e+06\trel_du = 5.4e-11\tabs_res = 2.7e+05 (tol = 1.0e-10)\trel_res = 2.4e-34 (tol = 1.0e-100)\n",
      "Non-linear solver, iteration 26\tabs_du = 6.6e+05\trel_du = 9.1e-12\tabs_res = 4.0e+05 (tol = 1.0e-10)\trel_res = 3.6e-34 (tol = 1.0e-100)\n",
      "Non-linear solver, iteration 27\tabs_du = 2.2e+05\trel_du = 3.0e-12\tabs_res = 2.4e+05 (tol = 1.0e-10)\trel_res = 2.2e-34 (tol = 1.0e-100)\n",
      "Non-linear solver, iteration 28\tabs_du = 4.3e+06\trel_du = 5.8e-11\tabs_res = 2.7e+05 (tol = 1.0e-10)\trel_res = 2.5e-34 (tol = 1.0e-100)\n",
      "Non-linear solver, iteration 29\tabs_du = 2.9e+06\trel_du = 4.0e-11\tabs_res = 2.3e+05 (tol = 1.0e-10)\trel_res = 2.1e-34 (tol = 1.0e-100)\n",
      "*******************************************************************************\n",
      "   WARNING: the solver hasn't converged in the maximum number of iterations\n",
      "*******************************************************************************\n"
     ]
    }
   ],
   "source": [
    "# IR theory\n",
    "mesh = ArcTanPowerLawMesh( num_cells=2300, k=15., gamma=8, r_rm=None, A_rm=20., k_rm=30., r_max=1e13,\n",
    "                         adjust_transition=True )\n",
    "fem = Fem( mesh, func_degree=7 )\n",
    "source = TopHatSource( fem, Ms=11e28, Rs=7e49, w=0.02 )\n",
    "fields = IRFields( m=1e-56, Lambda=1e-46, epsilon=3e-3, n=3 )\n",
    "irs = IRSolver( fem, source, fields, Mf1=1e-35, rel_res_tol=1e-100, abs_res_tol=1e-10,\n",
    "               max_iter=30 )\n",
    "irs.solve()"
   ]
  },
  {
   "cell_type": "code",
   "execution_count": 73,
   "metadata": {},
   "outputs": [],
   "source": [
    "# order of the operator - p in this notebook to distinguish between irs param n and mass param m\n",
    "p = 3\n"
   ]
  },
  {
   "cell_type": "code",
   "execution_count": 74,
   "metadata": {},
   "outputs": [],
   "source": [
    "# UV theory - phi-enics prediction\n",
    "On_Phi = uvs.On( p, rescale=1e40 )\n",
    "UV_r_values, UV_On_values = get_values( On_Phi, output_mesh=True )"
   ]
  },
  {
   "cell_type": "code",
   "execution_count": 75,
   "metadata": {},
   "outputs": [],
   "source": [
    "# UV theory - source dominated\n",
    "\n",
    "cp = (-1)**(p+1) * binom(3*p,p) * uvs.fields.alpha**(2*p+2) * (uvs.fields.lam/6.)**p\n",
    "\n",
    "# Y ~ rho/Mp + m^2 phi at small r, leading term propto Del Phi\n",
    "source_On = d.Expression('cp * pow(rho/Mp * pow(Mn/M,3),2*p) * pow(m/M,2) * Y', \n",
    "                      degree=uvs.fem.func_degree, cp=cp,\n",
    "                      rho=uvs.source.rho, Mp=uvs.fields.Mp, \n",
    "                      Mn=uvs.Mn, m=uvs.fields.m, M=uvs.fields.M,\n",
    "                      p=p, Y=uvs.Y )\n",
    "source_On = d.interpolate( source_On, uvs.fem.S )\n",
    "UV_source_On_values = get_values( source_On )"
   ]
  },
  {
   "cell_type": "code",
   "execution_count": 76,
   "metadata": {},
   "outputs": [],
   "source": [
    "# UV theory - source vacuum transition\n",
    "\n",
    "cp = (-1)**p * binom(3*p,p)\n",
    "\n",
    "rhobar = d.Expression('pow(exp((x[0]-rs)/w)+1.,-1)', degree=uvs.fem.func_degree,\n",
    "                     rs=uvs.source.t * uvs.fem.mesh.rs, w=uvs.source.w )\n",
    "\n",
    "code = 'cp * pow(alpha,2*p+2) * pow(lam/6.,p) * pow(Mn/M,6*p+2) * pow(Mn,3) * pow(rho/Mp,2*p+1) * ' + \\\n",
    "    'rhobar * exp((x[0]-rs)/w)/w * ( 2./x[0] + 1./w - 2.*(p-1)/w * rhobar * exp((x[0]-rs)/w) )'\n",
    "    \n",
    "rho_On_th = d.Expression(code, degree=uvs.fem.func_degree, \n",
    "                         w=uvs.source.w, rho=uvs.source.rho,\n",
    "                         rs= uvs.source.t * uvs.fem.mesh.rs,\n",
    "                         Mn=uvs.Mn, M=uvs.fields.M, alpha=uvs.fields.alpha, \n",
    "                         lam=uvs.fields.lam, cp=cp, p=p,\n",
    "                         Mp=uvs.fields.Mp, rhobar=rhobar )\n",
    "\n",
    "rho_On_th = d.interpolate( rho_On_th, uvs.fem.S )\n",
    "UV_rho_On_th_values = get_values( rho_On_th )\n"
   ]
  },
  {
   "cell_type": "code",
   "execution_count": 77,
   "metadata": {},
   "outputs": [],
   "source": [
    "# UV theory - Yukawa suppressed\n",
    "\n",
    "cp = (-1)**(p+1) * binom(3*p,p)\n",
    "\n",
    "r_piv = 10.\n",
    "c_piv = uvs.phi(r_piv) * r_piv / np.exp( -uvs.fields.m / uvs.Mn * r_piv )\n",
    "\n",
    "code = 'cp * pow(alpha,2*p+2) * pow(lam/6.,p) * pow(pow(m/M,2) * Mf1*c_piv/M,2*p+1) * pow(Mn,2) * M * ' + \\\n",
    "'pow(exp(-m/Mn*x[0])/x[0],2*p+1) * ( (2.*p+1.) * pow(m/Mn,2) + 2*p/pow(x[0],2) + 4.*p*m/Mn/x[0] )'\n",
    "\n",
    "UV_Yukawa_On_th = d.Expression( code, degree=uvs.fem.func_degree, \n",
    "                               cp=cp, c_piv=c_piv, \n",
    "                               m=uvs.fields.m, M=uvs.fields.M, alpha=uvs.fields.alpha, \n",
    "                               lam=uvs.fields.lam,\n",
    "                               p=p, Mn=uvs.Mn, Mf1=uvs.Mf1 )\n",
    "\n",
    "UV_Yukawa_On_th = d.interpolate( UV_Yukawa_On_th, uvs.fem.S )\n",
    "UV_Yukawa_On_th_values = get_values( UV_Yukawa_On_th )\n"
   ]
  },
  {
   "cell_type": "code",
   "execution_count": 78,
   "metadata": {},
   "outputs": [],
   "source": [
    "# UV theory - heavy field dominated regime\n",
    "\n",
    "# Y ~ H^3\n",
    "H_uvs = copy( uvs )\n",
    "y = d.Expression('-lam/6./alpha * pow(Mf2/Mn,2) * Mf2/Mf1 * pow(h,3)', \n",
    "                 degree=uvs.fem.func_degree, Mn=uvs.Mn, Mf2=uvs.Mf2, Mf1=uvs.Mf1,\n",
    "                alpha=uvs.fields.alpha, lam=uvs.fields.lam,\n",
    "                h=uvs.h )\n",
    "y = d.interpolate( y, uvs.fem.S )\n",
    "H_uvs.y = y\n",
    "\n",
    "H_On = H_uvs.On( p, rescale=1e50 )\n",
    "UV_H_On_values = get_values( H_On )\n",
    "\n",
    "\n",
    "# Y ~ H^3 and DelH\n",
    "H_Z_uvs = copy( uvs )\n",
    "\n",
    "y = d.Expression('1./alpha * Mf2/Mf1 * z - lam/6./alpha * pow(Mf2/Mn,2) * Mf2/Mf1 * pow(h,3)', \n",
    "                 degree=uvs.fem.func_degree, Mn=uvs.Mn, Mf2=uvs.Mf2, Mf1=uvs.Mf1,\n",
    "                alpha=uvs.fields.alpha, lam=uvs.fields.lam,\n",
    "                h=uvs.h, z=uvs.z )\n",
    "y = d.interpolate( y, uvs.fem.S )\n",
    "H_Z_uvs.y = y\n",
    "\n",
    "H_Z_On = H_Z_uvs.On( p, rescale=1e50 )\n",
    "UV_H_Z_On_values = get_values( H_Z_On )\n"
   ]
  },
  {
   "cell_type": "code",
   "execution_count": 79,
   "metadata": {},
   "outputs": [],
   "source": [
    "# IR theory - phi-enics prediction\n",
    "On_Pi = irs.On( p, rescale=1e0 )\n",
    "IR_r_values, IR_On_values = get_values( On_Pi, output_mesh=True )"
   ]
  },
  {
   "cell_type": "code",
   "execution_count": 80,
   "metadata": {},
   "outputs": [],
   "source": [
    "# IR theory - deep nonlinear regime\n",
    "\n",
    "code = '''\n",
    "class On_NL_th : public Expression\n",
    "{\n",
    "public:\n",
    "\n",
    "  double cp, epsilon, Mp, Lambda, Ms, rs, Mn, Mf1 ;\n",
    "  int p, n;\n",
    "\n",
    "  On_NL_th() : Expression()\n",
    "  {\n",
    "  }\n",
    "\n",
    "  void eval(Array<double>& values, const Array<double>& x) const\n",
    "  {\n",
    "    \n",
    "    double beta = (2.*p+1.)/n ;\n",
    "                                                \n",
    "    if ( x[0] < rs + DOLFIN_EPS ) {\n",
    "        values[0] = cp * pow(epsilon,p) * pow(Mn,2) * Lambda * pow(Mn/Lambda,beta) * \\\n",
    "        pow( Ms/(8.*pi*rs*epsilon*Mp), beta) * 2.*beta/pow(rs,2) * \\\n",
    "        pow( 3. - pow(x[0]/rs,2), beta-2. ) * ( -9. + (1.+2*beta) * pow(x[0]/rs,2) ) ;\n",
    "    }\n",
    "    \n",
    "    else {\n",
    "        values[0] = cp * beta * (beta-1.) * pow(epsilon,p) * pow(Mn,2) * Lambda * \\\n",
    "        pow(Mn/Lambda,beta) * pow( Ms/(4.*pi*epsilon*Mp), beta ) / pow(x[0],beta+2) ;\n",
    "    }\n",
    "  }\n",
    "};\n",
    "'''    \n",
    "    \n",
    "cp = (-1)**(p+1) * binom(3*p, p) /(2.*p+1.)\n",
    "    \n",
    "NL_On_th = d.Expression( code, degree=irs.fem.func_degree, Ms=irs.source.Ms,\n",
    "                    Lambda=irs.fields.Lambda, epsilon=irs.fields.epsilon,\n",
    "                    n=irs.fields.n, Mn=irs.Mn, Mf1=irs.Mf1, p=p, \n",
    "                    rs=irs.source.t * irs.fem.mesh.rs, Mp=irs.fields.Mp, cp=cp )\n",
    "    \n",
    "NL_On_th = d.interpolate( NL_On_th, irs.fem.S )\n",
    "IR_r_values, IR_NL_On_th_values = get_values( NL_On_th, output_mesh=True )"
   ]
  },
  {
   "cell_type": "code",
   "execution_count": 81,
   "metadata": {},
   "outputs": [],
   "source": [
    "# IR theory - Yukawa suppression\n",
    "cp = (-1)**(p+1) * binom(3*p,p)\n",
    "\n",
    "r_piv = 1e4\n",
    "c_piv = irs.pi(r_piv) * r_piv / np.exp( -irs.fields.m / irs.Mn * r_piv ) \n",
    "\n",
    "code = 'cp * pow(epsilon,p) * pow(pow(m/Lambda,2) * Mf1*c/Lambda,2*p+1) * pow(Mn,2) * Lambda * ' + \\\n",
    "'pow(exp(-m/Mn*x[0])/x[0],2*p+1) * ( (2.*p+1.) * pow(m/Mn,2) + 2*p/pow(x[0],2) + 4.*p*m/Mn/x[0] )'\n",
    "\n",
    "Yukawa_On_th = d.Expression( code, degree=irs.fem.func_degree,\n",
    "                          cp=cp, c=c_piv, m=irs.fields.m, Lambda=irs.fields.Lambda, \n",
    "                            epsilon=irs.fields.epsilon,\n",
    "                           p=p, Mn=irs.Mn, Mf1=irs.Mf1)\n",
    "\n",
    "Yukawa_On_th = d.interpolate( Yukawa_On_th, irs.fem.S )\n",
    "IR_Yukawa_On_th_values = get_values( Yukawa_On_th )\n"
   ]
  },
  {
   "cell_type": "code",
   "execution_count": 82,
   "metadata": {},
   "outputs": [
    {
     "data": {
      "text/plain": [
       "Text(0,0.5,u'$|O_{3}|=|12 \\\\alpha^{7} \\\\lambda^{3} {m_H}^{20} \\\\nabla^2 ((\\\\nabla^2\\\\phi)^{7}) |$')"
      ]
     },
     "execution_count": 82,
     "metadata": {},
     "output_type": "execute_result"
    },
    {
     "data": {
      "image/png": "[encoded data removed]",
      "text/plain": [
       "<matplotlib.figure.Figure at 0x7f9ff6896b50>"
      ]
     },
     "metadata": {},
     "output_type": "display_data"
    }
   ],
   "source": [
    "# UV picture\n",
    "\n",
    "fig = plt.figure(figsize=(9,5))\n",
    "\n",
    "plt.plot( UV_r_values, abs(UV_On_values), 'w.', label=r'$\\varphi$enics' )\n",
    "plt.plot( UV_r_values, abs(UV_source_On_values), ':', label='source dominated')\n",
    "plt.plot( UV_r_values, abs(UV_rho_On_th_values), '-.', label='source-vacuum transition')\n",
    "plt.plot( UV_r_values, abs(UV_Yukawa_On_th_values), ':', label=r'Yukawa suppressed')\n",
    "plt.xscale('log')\n",
    "plt.yscale('log')\n",
    "plt.xlim(1e-1,1e3)\n",
    "plt.ylim(1e-140,1e-90)\n",
    "plt.legend(title='Ligh-field dominated', ncol=2, bbox_to_anchor=(0.2,-0.093,0.5,0.), \n",
    "           fancybox=True, borderpad=1.1)\n",
    "plt.ylabel(r'$|O_{%d}|=|%.0f \\alpha^{%d} \\lambda^{%d} {m_H}^{%d} \\nabla^2 ((\\nabla^2\\phi)^{%d}) |$'\n",
    "           % ( p, binom(3*p,p) * (2*p+2)/(2*p+1), 2*p+1, p, 6*p+2, 2*p+1 ) )\n",
    "#plt.xlabel(r'$r/r_s$')\n",
    "\n",
    "# inset with H equation\n",
    "ax = plt.gca()\n",
    "#axins2 = inset_axes(ax, width=\"40%\", height=\"40%\", loc=1)\n",
    "axins2 = inset_axes(ax, width=\"100%\", height=\"100%\",\n",
    "                   bbox_to_anchor=(.58, .45, .4, .5),\n",
    "                   bbox_transform=ax.transAxes, loc=1)\n",
    "axins2.plot( UV_r_values, UV_H_Z_On_values, '-', label=r'$\\nabla^2\\phi\\sim -\\frac{\\lambda}{6\\alpha}H^3+\\frac{1}{\\alpha}\\nabla^2 H$' )\n",
    "axins2.plot( UV_r_values, UV_H_On_values, ':', label=r'$\\nabla^2\\phi\\sim-\\frac{\\lambda}{6\\alpha}H^2$')\n",
    "axins2.plot( UV_r_values, UV_On_values, 'w.' )\n",
    "axins2.set_xlim(1.,1.5)\n",
    "axins2.set_ylim(-7e-116,4e-116)\n",
    "axins2.set_xlabel(r'$r/r_s$')\n",
    "#axins2.legend(ncol=4, bbox_to_anchor=(-1.35,-1.4), loc=2)\n",
    "axins2.legend(title='Heavy-field dominated', ncol=1, bbox_to_anchor=(0.3,-1.05))\n",
    "#axins2.set_ylabel(r'$|O_{%d}|$' % n)\n",
    "axins2.set_ylabel(r'$|O_{%d}|=|%.0f \\alpha^{%d} \\lambda^{%d} {m_H}^{%d} \\nabla^2 ((\\nabla^2\\phi)^{%d}) |$'\n",
    "           % ( p, binom(3*p,p) /(2*p+1), 2*p+1, p, 6*p+2, 2*p+1 ) )\n",
    "\n"
   ]
  },
  {
   "cell_type": "code",
   "execution_count": 83,
   "metadata": {},
   "outputs": [
    {
     "data": {
      "image/png": "[encoded data removed]",
      "text/plain": [
       "<matplotlib.figure.Figure at 0x7f9ff69027d0>"
      ]
     },
     "metadata": {},
     "output_type": "display_data"
    }
   ],
   "source": [
    "# IR picture\n",
    "\n",
    "fig = plt.figure(figsize=(5,4))\n",
    "\n",
    "plt.plot( IR_r_values, abs(IR_On_values), 'w.' )\n",
    "plt.plot( IR_r_values, abs(IR_NL_On_th_values), 'r:', label='th, nonlinear regime' )\n",
    "plt.plot( IR_r_values, abs(IR_Yukawa_On_th_values), ':', label='th, Yukawa suppression')\n",
    "plt.xlabel(r'$r$')\n",
    "# plot a vertical line where the transition source-vacuum happens\n",
    "plt.axvline(x=irs.fem.mesh.rs, color='grey', linestyle=':')\n",
    "plt.axvline(x=irs.Mn/irs.fields.m, linestyle=':', color='green')\n",
    "plt.yscale('log')\n",
    "plt.xscale('log')\n",
    "plt.ylim(1e-220, 1e-40)\n",
    "#plt.xlim(1e-2, 1e3)\n",
    "plt.legend()\n",
    "plt.tight_layout()\n",
    "    \n",
    "    "
   ]
  },
  {
   "cell_type": "code",
   "execution_count": 84,
   "metadata": {},
   "outputs": [],
   "source": [
    "# save arrays for off-docker picture\n",
    "root = './data/On_UV_wiggles_'\n",
    "np.save( root + 'r_values', UV_r_values )\n",
    "np.save( root + 'On_values', UV_On_values )\n",
    "np.save( root + 'source_On_th_values', UV_source_On_values )\n",
    "np.save( root + 'rho_On_th_values', UV_rho_On_th_values )\n",
    "np.save( root + 'Yukawa_On_th_values', UV_Yukawa_On_th_values )\n",
    "np.save( root + 'H_On_values', UV_H_On_values )\n",
    "np.save( root + 'H_Z_On_values', UV_H_Z_On_values )"
   ]
  },
  {
   "cell_type": "code",
   "execution_count": 85,
   "metadata": {},
   "outputs": [],
   "source": [
    "# save arrays for off-docker picture\n",
    "root = './data/On_IR_Antares_'\n",
    "np.save( root + 'r_values.npy', IR_r_values )\n",
    "np.save( root + 'On_values.npy', IR_On_values )\n",
    "np.save( root + 'IR_NL_On_th_values.npy', IR_NL_On_th_values )\n",
    "np.save( root + 'IR_Yukawa_On_th_values.npy', IR_Yukawa_On_th_values )"
   ]
  },
  {
   "cell_type": "code",
   "execution_count": null,
   "metadata": {},
   "outputs": [],
   "source": []
  }
 ],
 "metadata": {
  "kernelspec": {
   "display_name": "Python 2",
   "language": "python",
   "name": "python2"
  },
  "language_info": {
   "codemirror_mode": {
    "name": "ipython",
    "version": 2
   },
   "file_extension": ".py",
   "mimetype": "text/x-python",
   "name": "python",
   "nbconvert_exporter": "python",
   "pygments_lexer": "ipython2",
   "version": "2.7.12"
  }
 },
 "nbformat": 4,
 "nbformat_minor": 2
}
